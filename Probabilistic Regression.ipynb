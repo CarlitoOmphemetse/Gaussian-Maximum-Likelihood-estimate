{
 "cells": [
  {
   "cell_type": "markdown",
   "metadata": {},
   "source": [
    "# OMPHEMETSE MANGOPE\n",
    "Student No: 201532614   \n",
    "Advanced Machine Learning  \n",
    "Assignment 5"
   ]
  },
  {
   "cell_type": "code",
   "execution_count": 185,
   "metadata": {},
   "outputs": [],
   "source": [
    "import numpy as np \n",
    "import matplotlib.pyplot as plt \n",
    "from scipy.stats import distributions as dist\n",
    "from scipy.stats import norm\n",
    "from sklearn.preprocessing import scale"
   ]
  },
  {
   "cell_type": "markdown",
   "metadata": {},
   "source": [
    "# Generating data"
   ]
  },
  {
   "cell_type": "code",
   "execution_count": 186,
   "metadata": {},
   "outputs": [],
   "source": [
    "n = 100 # number of observations\n",
    "x = dist.uniform(0, 20).rvs(n) \n",
    "x = x[np.argsort(x)]\n",
    "y1_true = 4 + 0.5 * x\n",
    "y_obs = y1_true + dist.norm(0, 0.5).rvs(n) \n",
    "\n",
    "\n",
    "\n",
    "X = np.c_[np.ones(n), x] # Design matrix "
   ]
  },
  {
   "cell_type": "markdown",
   "metadata": {},
   "source": [
    "# Maximum Likelihood Estimates for $\\theta_{0}$ and $\\theta_{1}$"
   ]
  },
  {
   "cell_type": "code",
   "execution_count": 187,
   "metadata": {},
   "outputs": [],
   "source": [
    "θ_MLE = np.linalg.inv(X.T.dot(X)).dot(X.T).dot(y_obs)"
   ]
  },
  {
   "cell_type": "markdown",
   "metadata": {},
   "source": [
    "# Maximum Likelihood Estimate $\\sigma^{2}$"
   ]
  },
  {
   "cell_type": "code",
   "execution_count": 188,
   "metadata": {},
   "outputs": [],
   "source": [
    "var_MLE = (1/n)*(y_obs - X.dot(θ_MLE).T.dot(y_obs - X.dot(θ_MLE)))"
   ]
  },
  {
   "cell_type": "markdown",
   "metadata": {},
   "source": [
    "# Generating data from a Gaussian distribution"
   ]
  },
  {
   "cell_type": "code",
   "execution_count": 189,
   "metadata": {},
   "outputs": [],
   "source": [
    "μ_MLE = X.dot(θ_MLE) # Mean\n",
    "\n",
    "μ_MLE = scale(μ_MLE)\n",
    "var_MLE = scale(var_MLE)\n",
    "X = scale(x)\n",
    "\n",
    "y_pred = dist.norm.pdf(X,μ_MLE,var_MLE) # generating data from a Gaussian distribution\n",
    "y_pred = scale(y_pred)"
   ]
  },
  {
   "cell_type": "markdown",
   "metadata": {},
   "source": [
    "# Plot of generated data and train data"
   ]
  },
  {
   "cell_type": "code",
   "execution_count": 202,
   "metadata": {},
   "outputs": [
    {
     "data": {
      "text/plain": [
       "<matplotlib.legend.Legend at 0x2b2eab70e88>"
      ]
     },
     "execution_count": 202,
     "metadata": {},
     "output_type": "execute_result"
    },
    {
     "data": {
      "image/png": "[encoded data removed]",
      "text/plain": [
       "<Figure size 864x432 with 1 Axes>"
      ]
     },
     "metadata": {
      "needs_background": "light"
     },
     "output_type": "display_data"
    }
   ],
   "source": [
    "plt.figure(figsize=(12,6))\n",
    "plt.plot(X,y_pred,'*',label='Generated data')\n",
    "plt.plot(X,y_obs,'.',label='Training data')\n",
    "plt.title('Generated data vs Training data',color='g', fontweight='bold')\n",
    "plt.xlabel('x values', fontweight='bold')\n",
    "plt.ylabel('y values', fontweight='bold')\n",
    "plt.legend()"
   ]
  },
  {
   "cell_type": "markdown",
   "metadata": {},
   "source": [
    "# Generating data from a uniform distribution"
   ]
  },
  {
   "cell_type": "code",
   "execution_count": 191,
   "metadata": {},
   "outputs": [],
   "source": [
    "y_test = dist.uniform(20,25).rvs(n)"
   ]
  },
  {
   "cell_type": "code",
   "execution_count": null,
   "metadata": {},
   "outputs": [],
   "source": []
  }
 ],
 "metadata": {
  "kernelspec": {
   "display_name": "Python 3",
   "language": "python",
   "name": "python3"
  },
  "language_info": {
   "codemirror_mode": {
    "name": "ipython",
    "version": 3
   },
   "file_extension": ".py",
   "mimetype": "text/x-python",
   "name": "python",
   "nbconvert_exporter": "python",
   "pygments_lexer": "ipython3",
   "version": "3.7.4"
  }
 },
 "nbformat": 4,
 "nbformat_minor": 2
}
